{
 "cells": [
  {
   "cell_type": "code",
   "execution_count": 1,
   "metadata": {
    "collapsed": true
   },
   "outputs": [],
   "source": [
    "from bs4 import BeautifulSoup"
   ]
  },
  {
   "cell_type": "code",
   "execution_count": 1,
   "metadata": {
    "collapsed": true
   },
   "outputs": [],
   "source": [
    "import json\n",
    "import dateutil\n",
    "import codecs"
   ]
  },
  {
   "cell_type": "code",
   "execution_count": 2,
   "metadata": {
    "collapsed": false
   },
   "outputs": [],
   "source": [
    "res = []\n",
    "with codecs.open('movies.jl','r',encoding='utf-8') as f:\n",
    "    for i in f:\n",
    "        res.append(json.loads(i))\n",
    "        "
   ]
  },
  {
   "cell_type": "code",
   "execution_count": 119,
   "metadata": {
    "collapsed": false
   },
   "outputs": [],
   "source": [
    "with codecs.open('movies.res','w',encoding='utf-8') as f:\n",
    "    f.writelines(str(res))"
   ]
  },
  {
   "cell_type": "code",
   "execution_count": 3,
   "metadata": {
    "collapsed": false
   },
   "outputs": [
    {
     "data": {
      "text/plain": [
       "483"
      ]
     },
     "execution_count": 3,
     "metadata": {},
     "output_type": "execute_result"
    }
   ],
   "source": [
    "len(res)"
   ]
  },
  {
   "cell_type": "code",
   "execution_count": 4,
   "metadata": {
    "collapsed": true
   },
   "outputs": [],
   "source": [
    "count = 0\n",
    "for i in res:\n",
    "    i['movie_id'] = count\n",
    "    count += 1"
   ]
  },
  {
   "cell_type": "code",
   "execution_count": 5,
   "metadata": {
    "collapsed": false
   },
   "outputs": [
    {
     "data": {
      "text/plain": [
       "{'IMDb': 'http://www.imdb.com/title/tt3731562',\n",
       " 'actors': ['汤姆·希德勒斯顿',\n",
       "  '布丽·拉尔森',\n",
       "  '塞缪尔·杰克逊',\n",
       "  '约翰·古德曼',\n",
       "  '景甜',\n",
       "  '约翰·C·赖利',\n",
       "  '托比·凯贝尔',\n",
       "  '科里·霍金斯',\n",
       "  '汤姆·威尔金森',\n",
       "  '托马斯·曼',\n",
       "  '杰森·米切尔',\n",
       "  '谢伊·惠格姆',\n",
       "  '约翰·奥提兹',\n",
       "  '尤金·科德罗'],\n",
       " 'brief_into': '上世纪70年代，一支集结了科考队员、探险家、战地摄影记者、军人的探险队，冒险前往南太平洋上的神秘岛屿——骷髅岛。他们的到来惊扰了岛上之神——史上最大金刚。经过一番惨烈的激战之后，探险队员散落在了岛屿各处。此时，队员们才意识到这次探险并不是一次单纯的科考任务，而是去探索怪兽存在的证明。\\n                                    \\n                                \\u3000\\u3000在这片与世隔绝、危险密布的丛林，无数怪异的史前生物暗藏其中，时刻威胁着他们的生命。队员们还遇到了神秘的原始部落，金刚的身世和其守护岛屿的原因也被逐渐揭开，原来，恐怖阴森的骷髅岛上还蛰伏着更凶狠残暴的怪兽……',\n",
       " 'director': '乔丹·沃格特-罗伯茨',\n",
       " 'duration': '119分钟',\n",
       " 'english': 0,\n",
       " 'movie_id': 1,\n",
       " 'name': '金刚：骷髅岛 Kong: Skull Island',\n",
       " 'ratings': '6.7',\n",
       " 'release_date': ['2017-03-24(中国大陆)', '2017-02-28(伦敦首映)', '2017-03-10(美国)'],\n",
       " 'scenarists': ['麦克思·鲍伦斯坦', '约翰·盖汀斯', '丹·吉尔罗伊', '德里克·康纳利'],\n",
       " 'type': ['动作', '奇幻', '冒险']}"
      ]
     },
     "execution_count": 5,
     "metadata": {},
     "output_type": "execute_result"
    }
   ],
   "source": [
    "res[1]"
   ]
  },
  {
   "cell_type": "code",
   "execution_count": 6,
   "metadata": {
    "collapsed": false
   },
   "outputs": [],
   "source": [
    "import csv\n",
    "ch_movies = []\n",
    "en_movies = []\n",
    "for i in res:\n",
    "    if int(i['english']) == 0:\n",
    "        ch_movies.append(i)\n",
    "    else:\n",
    "        en_movies.append(i)\n",
    "        "
   ]
  },
  {
   "cell_type": "code",
   "execution_count": 128,
   "metadata": {
    "collapsed": false
   },
   "outputs": [
    {
     "data": {
      "text/plain": [
       "{'actors': ['Vin Diesel', 'Jason Statham', 'Dwayne Johnson'],\n",
       " 'brief_into': \"Now that Dom and Letty are on their honeymoon and Brian and Mia have retired from the game-and the rest of the crew has been exonerated-the globetrotting team has found a semblance of a normal life. But when a mysterious woman seduces Dom into the world of crime he can't seem to escape and a betrayal of those closest to him, they will face trials that will test them as never before. From the shores of Cuba and the streets of New York City to the icy plains off the arctic Barents Sea, the elite force will crisscross the globe to stop an anarchist from unleashing chaos on the world's stage... and to bring home the man who made them a family.\",\n",
       " 'director': None,\n",
       " 'duration': '2h 16min',\n",
       " 'english': 1,\n",
       " 'movie_id': 3,\n",
       " 'name': 'The Fate of the Furious',\n",
       " 'ratings': ['7.2'],\n",
       " 'release_date': '14 April 2017 (USA)',\n",
       " 'scenarists': ['Chris Morgan',\n",
       "  'Gary Scott Thompson',\n",
       "  'Universal Pictures',\n",
       "  'One Race Films',\n",
       "  'Original Film'],\n",
       " 'type': ['Action', 'Adventure', 'Crime']}"
      ]
     },
     "execution_count": 128,
     "metadata": {},
     "output_type": "execute_result"
    }
   ],
   "source": [
    "en_movies[0]"
   ]
  },
  {
   "cell_type": "code",
   "execution_count": 131,
   "metadata": {
    "collapsed": false
   },
   "outputs": [],
   "source": [
    "with codecs.open('en_movies.csv','w',encoding='utf-8') as f:\n",
    "    csv_writer = csv.writer(f,delimiter=',')\n",
    "    header = en_movies[0].keys()\n",
    "    csv_writer.writerow(header)\n",
    "    for row in en_movies:\n",
    "        csv_writer.writerow(row.values())"
   ]
  },
  {
   "cell_type": "code",
   "execution_count": 7,
   "metadata": {
    "collapsed": false
   },
   "outputs": [
    {
     "data": {
      "text/plain": [
       "{'IMDb': 'http://www.imdb.com/title/tt4630562',\n",
       " 'actors': ['范·迪塞尔',\n",
       "  '道恩·强森',\n",
       "  '查理兹·塞隆',\n",
       "  '杰森·斯坦森',\n",
       "  '米歇尔·罗德里格兹',\n",
       "  '泰瑞斯·吉布森',\n",
       "  '卢达克里斯',\n",
       "  '库尔特·拉塞尔',\n",
       "  '娜塔莉·伊曼纽尔',\n",
       "  '卢克·伊万斯',\n",
       "  '埃尔莎·帕塔奇',\n",
       "  '克里斯托弗·海维尤',\n",
       "  '斯科特·伊斯特伍德',\n",
       "  '帕特里克·圣埃斯普利特'],\n",
       " 'brief_into': '多米尼克（范·迪塞尔 Vin Diesel 饰）与莱蒂（米歇尔·罗德里格兹 Michelle Rodriguez 饰）共度蜜月，布莱恩与米娅退出了赛车界，这支曾环游世界的顶级飞车家族队伍的生活正渐趋平淡。然而，一位神秘女子Cipher（查理兹·塞隆 Charlize T heron 饰）的出现，令整个队伍卷入信任与背叛的危机，面临前所未有的考验。',\n",
       " 'director': 'F·加里·格雷',\n",
       " 'duration': '136分钟',\n",
       " 'english': 0,\n",
       " 'movie_id': 0,\n",
       " 'name': '速度与激情8 The Fate of the Furious',\n",
       " 'ratings': '7.2',\n",
       " 'release_date': ['2017-04-14(美国/中国大陆)', '2017-04-12(法国)'],\n",
       " 'scenarists': ['克里斯·摩根', '盖瑞·斯科特·汤普森'],\n",
       " 'type': ['动作', '犯罪']}"
      ]
     },
     "execution_count": 7,
     "metadata": {},
     "output_type": "execute_result"
    }
   ],
   "source": [
    "ch_movies[0]"
   ]
  },
  {
   "cell_type": "code",
   "execution_count": 8,
   "metadata": {
    "collapsed": true
   },
   "outputs": [],
   "source": [
    "copy = ch_movies"
   ]
  },
  {
   "cell_type": "code",
   "execution_count": 14,
   "metadata": {
    "collapsed": false
   },
   "outputs": [],
   "source": [
    "for i in copy:\n",
    "    i['brief_into']=''.join(i['brief_into'].split())"
   ]
  },
  {
   "cell_type": "code",
   "execution_count": 15,
   "metadata": {
    "collapsed": false
   },
   "outputs": [
    {
     "name": "stdout",
     "output_type": "stream",
     "text": [
      "<class 'str'>\n",
      "多米尼克（范·迪塞尔VinDiesel饰）与莱蒂（米歇尔·罗德里格兹MichelleRodriguez饰）共度蜜月，布莱恩与米娅退出了赛车界，这支曾环游世界的顶级飞车家族队伍的生活正渐趋平淡。然而，一位神秘女子Cipher（查理兹·塞隆CharlizeTheron饰）的出现，令整个队伍卷入信任与背叛的危机，面临前所未有的考验。\n",
      "<class 'str'>\n",
      "上世纪70年代，一支集结了科考队员、探险家、战地摄影记者、军人的探险队，冒险前往南太平洋上的神秘岛屿——骷髅岛。他们的到来惊扰了岛上之神——史上最大金刚。经过一番惨烈的激战之后，探险队员散落在了岛屿各处。此时，队员们才意识到这次探险并不是一次单纯的科考任务，而是去探索怪兽存在的证明。在这片与世隔绝、危险密布的丛林，无数怪异的史前生物暗藏其中，时刻威胁着他们的生命。队员们还遇到了神秘的原始部落，金刚的身世和其守护岛屿的原因也被逐渐揭开，原来，恐怖阴森的骷髅岛上还蛰伏着更凶狠残暴的怪兽……\n",
      "<class 'str'>\n",
      "黑人小伙克里斯（丹尼尔·卡卢亚DanielKaluuya饰）和白人女孩露丝（艾莉森·威廉姆斯AllisonWilliams饰）相恋，虽然两人之间的感情十分要好，但克里斯一直为自己的肤色心存芥蒂。某日，两人相约前往露丝家做客，在那里，克里斯见到了露丝的父母迪恩（布莱德利·惠特福德BradleyWhitford饰）和米西（凯瑟琳·基纳CatherineKeener饰），除了露丝的弟弟吉瑞米（卡莱伯·兰德里·琼斯CalebLandryJones饰）对克里斯展现出了一丝敌意外，一切都堪称完美。隔日，克里斯参加了露丝家举办的派对，在派对中，克里斯遇见了旧友安德鲁（凯斯·斯坦菲尔德KeithStanfield饰），让克里斯百思不得其解的是，安德鲁的穿着、谈吐和举止和先前大相径庭，判若两人。种种诡异的蛛丝马迹让克里斯渐渐察觉...\n",
      "<class 'str'>\n",
      "近未来，人类的各种器官均可实现移植，一时间机器人、生还人、仿生人充斥世间，与人类真假莫辨。某座繁华都市的大厦内，汉卡公司高管正与非洲来宾洽谈业务，突然宴会变成血腥大屠杀，暴走的机器人大开杀戒。隶属公安九课的米拉·基里安少佐（斯嘉丽·约翰逊ScarlettJohansson饰）带领巴特（皮鲁·埃斯贝克PilouAsbæk饰）等手下赶往现场，平息事态。根据对暴走艺伎机器人的调查发现，被称作“久世”的神秘之人策划了这一系列的行动，而且他的目标全部指向了掌握着生化前沿尖端科技的汉卡公司及其研发人员。经过一番凶险的周旋，少佐逐渐逼近真相，同时也渐渐解开了发生在自己身上的惊天秘密……本片根据士郎正宗的经典原作改编。\n",
      "<class 'str'>\n",
      "漫威影业最新力作《银河护卫队2》带着全新劲爆好听的“劲歌金曲第二辑”回归大银幕！银河护卫队在本集中穿越宇宙，继续外太空的史诗冒险之旅。他们必须共同作战，守护彼此；同时要解开“星爵”彼得·奎尔的身世之谜。旧日敌人变为盟友，漫画中深受喜爱的角色也会现身，对护卫队出手援助。漫威电影宇宙则将持续扩张，进入新纪元！\n"
     ]
    }
   ],
   "source": [
    "count = 0\n",
    "for i in copy:\n",
    "    if count<5:\n",
    "        print(type(i['brief_into']))\n",
    "        print(i['brief_into'])\n",
    "        count += 1"
   ]
  },
  {
   "cell_type": "code",
   "execution_count": 16,
   "metadata": {
    "collapsed": false
   },
   "outputs": [
    {
     "data": {
      "text/plain": [
       "290"
      ]
     },
     "execution_count": 16,
     "metadata": {},
     "output_type": "execute_result"
    }
   ],
   "source": [
    "len(ch_movies)"
   ]
  },
  {
   "cell_type": "code",
   "execution_count": 17,
   "metadata": {
    "collapsed": false
   },
   "outputs": [],
   "source": [
    "with codecs.open('ch_movies.csv','w',encoding='utf-8') as f:\n",
    "    csv_writer = csv.writer(f,delimiter=',')\n",
    "    header = ch_movies[0].keys()\n",
    "    csv_writer.writerow(header)\n",
    "    for row in ch_movies:\n",
    "        csv_writer.writerow(row.values())"
   ]
  },
  {
   "cell_type": "code",
   "execution_count": 70,
   "metadata": {
    "collapsed": false
   },
   "outputs": [
    {
     "data": {
      "text/plain": [
       "[0, '动作', '犯罪', '136分钟', '2017-04-14(美国/中国大陆)', '2017-04-12(法国)', '7.2']"
      ]
     },
     "execution_count": 70,
     "metadata": {},
     "output_type": "execute_result"
    }
   ],
   "source": [
    "flatten = lambda x: [y for l in x for y in flatten(l)] if type(x) is list else [x]\n",
    "flatten(info_for_jaccard[1])"
   ]
  },
  {
   "cell_type": "code",
   "execution_count": 78,
   "metadata": {
    "collapsed": false
   },
   "outputs": [
    {
     "data": {
      "text/plain": [
       "[0, ['动作', '犯罪'], '136分钟', ['2017-04-14(美国/中国大陆)', '2017-04-12(法国)'], '7.2']"
      ]
     },
     "execution_count": 78,
     "metadata": {},
     "output_type": "execute_result"
    }
   ],
   "source": [
    "info_for_jaccard[1]"
   ]
  },
  {
   "cell_type": "code",
   "execution_count": 77,
   "metadata": {
    "collapsed": false
   },
   "outputs": [
    {
     "data": {
      "text/plain": [
       "[0,\n",
       " ['动作', '科幻', '冒险'],\n",
       " '121分钟',\n",
       " ['2014-10-10(中国大陆)', '2014-07-21(洛杉矶首映)', '2014-08-01(美国)'],\n",
       " '8.0']"
      ]
     },
     "execution_count": 77,
     "metadata": {},
     "output_type": "execute_result"
    }
   ],
   "source": [
    "info_for_jaccard[33]"
   ]
  },
  {
   "cell_type": "code",
   "execution_count": 84,
   "metadata": {
    "collapsed": true
   },
   "outputs": [],
   "source": [
    "def parse_ch_duration(duration):\n",
    "    return int(duration.split('分钟')[0].strip())\n",
    "def parse_en_duration(duration):\n",
    "    temp = duration.split()\n",
    "    return int(temp[0].split('h')[0])*60+int(temp[1].split('min')[0])"
   ]
  },
  {
   "cell_type": "code",
   "execution_count": 83,
   "metadata": {
    "collapsed": false
   },
   "outputs": [
    {
     "data": {
      "text/plain": [
       "121"
      ]
     },
     "execution_count": 83,
     "metadata": {},
     "output_type": "execute_result"
    }
   ],
   "source": [
    "parse_ch_duration(info_for_jaccard[33][2])"
   ]
  },
  {
   "cell_type": "code",
   "execution_count": 85,
   "metadata": {
    "collapsed": false
   },
   "outputs": [
    {
     "data": {
      "text/plain": [
       "108"
      ]
     },
     "execution_count": 85,
     "metadata": {},
     "output_type": "execute_result"
    }
   ],
   "source": [
    "parse_en_duration(info_for_jaccard[23][2])"
   ]
  },
  {
   "cell_type": "code",
   "execution_count": 56,
   "metadata": {
    "collapsed": false
   },
   "outputs": [
    {
     "data": {
      "text/plain": [
       "{'136分钟', '2017-04-12(法国)', '2017-04-14(美国/中国大陆)', '7.2', '动作', '犯罪'}"
      ]
     },
     "execution_count": 56,
     "metadata": {},
     "output_type": "execute_result"
    }
   ],
   "source": [
    "s1 = set(flatten(info_for_jaccard[1]))\n",
    "s1"
   ]
  },
  {
   "cell_type": "code",
   "execution_count": 65,
   "metadata": {
    "collapsed": false
   },
   "outputs": [
    {
     "data": {
      "text/plain": [
       "0.07692307692307693"
      ]
     },
     "execution_count": 65,
     "metadata": {},
     "output_type": "execute_result"
    }
   ],
   "source": [
    "len((s1 & s33))/len((s1 | s33))"
   ]
  },
  {
   "cell_type": "code",
   "execution_count": 9,
   "metadata": {
    "collapsed": true
   },
   "outputs": [],
   "source": [
    "def parse_ch_durations(duraions):\n",
    "    res = []\n",
    "    for i in duraions:\n",
    "        res.append(int(i.split('分钟')[0].strip()))\n",
    "    return res\n",
    "def parse_en_durations(durations):\n",
    "    res = []\n",
    "    for i in durations:\n",
    "        temp = i.split()\n",
    "        res.append(int(temp[0].split('h')[0])*60+int(temp[1].split('min')[0]))\n",
    "    return res"
   ]
  },
  {
   "cell_type": "code",
   "execution_count": 17,
   "metadata": {
    "collapsed": true
   },
   "outputs": [],
   "source": [
    "ch_durations = durations[:4]"
   ]
  },
  {
   "cell_type": "code",
   "execution_count": 18,
   "metadata": {
    "collapsed": false
   },
   "outputs": [
    {
     "data": {
      "text/plain": [
       "['136分钟', '136分钟', '104分钟', '119分钟']"
      ]
     },
     "execution_count": 18,
     "metadata": {},
     "output_type": "execute_result"
    }
   ],
   "source": [
    "ch_durations"
   ]
  },
  {
   "cell_type": "code",
   "execution_count": 20,
   "metadata": {
    "collapsed": true
   },
   "outputs": [],
   "source": [
    "en_durations = ['2h 22min', '2h 8min','1h 56min','1h 33min']"
   ]
  },
  {
   "cell_type": "code",
   "execution_count": 21,
   "metadata": {
    "collapsed": true
   },
   "outputs": [],
   "source": [
    "ch_du_res = parse_ch_durations(ch_durations)\n",
    "en_du_res = parse_en_durations(en_durations)"
   ]
  },
  {
   "cell_type": "code",
   "execution_count": 22,
   "metadata": {
    "collapsed": false
   },
   "outputs": [
    {
     "data": {
      "text/plain": [
       "['136', '136', '104', '119']"
      ]
     },
     "execution_count": 22,
     "metadata": {},
     "output_type": "execute_result"
    }
   ],
   "source": [
    "ch_du_res"
   ]
  },
  {
   "cell_type": "code",
   "execution_count": 25,
   "metadata": {
    "collapsed": true
   },
   "outputs": [],
   "source": [
    "ch_du_res = parse_ch_durations(ch_durations)\n",
    "en_du_res = parse_en_durations(en_durations)"
   ]
  },
  {
   "cell_type": "code",
   "execution_count": 26,
   "metadata": {
    "collapsed": false
   },
   "outputs": [
    {
     "data": {
      "text/plain": [
       "[136, 136, 104, 119]"
      ]
     },
     "execution_count": 26,
     "metadata": {},
     "output_type": "execute_result"
    }
   ],
   "source": [
    "ch_du_res"
   ]
  },
  {
   "cell_type": "code",
   "execution_count": 27,
   "metadata": {
    "collapsed": false
   },
   "outputs": [
    {
     "data": {
      "text/plain": [
       "[142, 128, 116, 93]"
      ]
     },
     "execution_count": 27,
     "metadata": {},
     "output_type": "execute_result"
    }
   ],
   "source": [
    "en_du_res"
   ]
  },
  {
   "cell_type": "code",
   "execution_count": 31,
   "metadata": {
    "collapsed": false
   },
   "outputs": [
    {
     "data": {
      "text/plain": [
       "{'actors': ['Chris Evans', 'Mckenna Grace', 'Lindsay Duncan'],\n",
       " 'brief_into': \"Frank Adler (Chris Evans) is a single man raising a child prodigy - his spirited young niece Mary (Mckenna Grace) in a coastal town in Florida. Frank's plans for a normal school life for Mary are foiled when the seven-year-old's mathematical abilities come to the attention of Frank's formidable mother Evelyn (Lindsay Duncan) whose plans for her granddaughter threaten to separate Frank and Mary. Octavia Spencer plays Roberta, Frank and Mary's landlady and best friend. Jenny Slate is Mary's teacher, Bonnie, a young woman whose concern for her student develops into a connection with her uncle as well.\",\n",
       " 'director': None,\n",
       " 'duration': '1h 41min',\n",
       " 'english': 1,\n",
       " 'name': 'Gifted',\n",
       " 'ratings': ['7.8'],\n",
       " 'release_date': '12 April 2017 (USA)',\n",
       " 'scenarists': ['Tom Flynn',\n",
       "  'Dayday Films',\n",
       "  'FilmNation Entertainment',\n",
       "  'Fox Searchlight Pictures'],\n",
       " 'type': ['Drama']}"
      ]
     },
     "execution_count": 31,
     "metadata": {},
     "output_type": "execute_result"
    }
   ],
   "source": [
    "res[19]"
   ]
  },
  {
   "cell_type": "code",
   "execution_count": 32,
   "metadata": {
    "collapsed": true
   },
   "outputs": [],
   "source": [
    "import dateutil"
   ]
  },
  {
   "cell_type": "code",
   "execution_count": 35,
   "metadata": {
    "collapsed": false
   },
   "outputs": [
    {
     "data": {
      "text/plain": [
       "{'actors': ['Matthew McConaughey', 'Reese Witherspoon', 'Seth MacFarlane'],\n",
       " 'brief_into': 'In a town with no humans, just animals, a koala named Buster Moon realizes he will soon lose his theater if he cannot turn his luck around. He comes up with a plan to host a singing competition, where the winner will receive $100,000. Will this be enough to return his theater to glory?',\n",
       " 'director': None,\n",
       " 'duration': '1h 48min',\n",
       " 'english': 1,\n",
       " 'name': 'Sing',\n",
       " 'ratings': ['7.2'],\n",
       " 'release_date': '21 December 2016 (USA)',\n",
       " 'scenarists': ['Garth Jennings',\n",
       "  'Dentsu',\n",
       "  'Fuji Television Network',\n",
       "  'Illumination Entertainment'],\n",
       " 'type': ['Animation', 'Comedy', 'Family']}"
      ]
     },
     "execution_count": 35,
     "metadata": {},
     "output_type": "execute_result"
    }
   ],
   "source": [
    "res[22]"
   ]
  },
  {
   "cell_type": "code",
   "execution_count": 99,
   "metadata": {
    "collapsed": false
   },
   "outputs": [
    {
     "data": {
      "text/plain": [
       "{'IMDb': 'http://www.splitmovie.com',\n",
       " 'actors': ['詹姆斯·麦卡沃伊',\n",
       "  '安雅·泰勒-乔伊',\n",
       "  '贝蒂·巴克利',\n",
       "  '海利·路·理查森',\n",
       "  '杰西卡·苏拉',\n",
       "  '丽兹·科菲',\n",
       "  '布拉德·威廉姆·亨克',\n",
       "  '塞巴斯蒂安·阿塞勒斯',\n",
       "  '金·迪莱克特',\n",
       "  '斯特林·K·布朗',\n",
       "  '琳·莱妮',\n",
       "  '尼尔·哈夫',\n",
       "  '玛丽亚·布雷曼',\n",
       "  '布鲁斯·威利斯'],\n",
       " 'brief_into': '凯西（安雅·泰勒-乔伊 Anya Taylor-Joy 饰）是一个显得和同龄人格格不入的怪女孩，某日，她和同学克莱尔（海莉·路·理查森 Haley Lu Richardson 饰）、玛西亚（杰西卡·苏拉 Jessica Sula 饰）一起准备坐车回家，哪知道遭到了一神秘男子的袭击和绑架，三人被囚禁在灰暗阴冷的地下室中，面临着未知的凶险命运。\\n                                    \\n                                \\u3000\\u3000绑架三个女孩的，是一个名叫凯文（詹姆斯·麦卡沃伊 James McAvoy 饰）的男人，实际上，他是一位多重人格患者，支配着他的身体的人格，竟有23种之多。弗莱彻（贝蒂·巴克利 Betty Buckley 饰）是凯文的主治医生，她发现，凯文体内的人格之间产生了分歧，更糟糕的是，第24种人格正在慢慢形成，这个人格强壮、邪恶、残忍，一旦他获得了凯文身体的主导权，不仅三个女孩要遭殃，就连凯文本身都将性命不保。',\n",
       " 'director': 'M·奈特·沙马兰',\n",
       " 'duration': '117分钟',\n",
       " 'english': 0,\n",
       " 'movie_id': 11,\n",
       " 'name': '分裂 Split',\n",
       " 'ratings': '7.2',\n",
       " 'release_date': ['2016-12-26(奇幻电影节)', '2017-01-20(美国)'],\n",
       " 'scenarists': ['M·奈特·沙马兰'],\n",
       " 'type': ['惊悚', '恐怖']}"
      ]
     },
     "execution_count": 99,
     "metadata": {},
     "output_type": "execute_result"
    }
   ],
   "source": [
    "res[8]"
   ]
  },
  {
   "cell_type": "code",
   "execution_count": 115,
   "metadata": {
    "collapsed": false
   },
   "outputs": [
    {
     "name": "stdout",
     "output_type": "stream",
     "text": [
      "2017-04-14 00:00:00\n",
      "2017-05-05 00:00:00\n",
      "2017-03-10 00:00:00\n",
      "2017-03-03 00:00:00\n",
      "1994-10-14 00:00:00\n",
      "2016-12-25 00:00:00\n",
      "2017-04-12 00:00:00\n",
      "2016-12-21 00:00:00\n",
      "2016-12-21 00:00:00\n",
      "2017-03-17 00:00:00\n",
      "2017-01-06 00:00:00\n",
      "1997-12-19 00:00:00\n",
      "2016-11-18 00:00:00\n",
      "2010-07-16 00:00:00\n",
      "2016-03-04 00:00:00\n",
      "1972-03-24 00:00:00\n",
      "2017-05-04 00:00:00\n",
      "2017-01-13 00:00:00\n",
      "1998-06-05 00:00:00\n",
      "2010-03-12 00:00:00\n",
      "2016-11-04 00:00:00\n",
      "1958-02-06 00:00:00\n"
     ]
    }
   ],
   "source": [
    "from dateutil.parser import parse\n",
    "count = 0\n",
    "for i in res:\n",
    "    if i['english'] == 1:\n",
    "        try:\n",
    "            print(parse(i['release_date'].split('(')[0].strip()))\n",
    "            count +=1\n",
    "        except Exception as e:\n",
    "            pass\n",
    "        \n",
    "#         print(parse(i['release_date'].split('(')[0].strip()))"
   ]
  },
  {
   "cell_type": "code",
   "execution_count": 116,
   "metadata": {
    "collapsed": false
   },
   "outputs": [
    {
     "data": {
      "text/plain": [
       "22"
      ]
     },
     "execution_count": 116,
     "metadata": {},
     "output_type": "execute_result"
    }
   ],
   "source": [
    "count"
   ]
  },
  {
   "cell_type": "code",
   "execution_count": 37,
   "metadata": {
    "collapsed": false
   },
   "outputs": [
    {
     "data": {
      "text/plain": [
       "datetime.datetime(2016, 12, 21, 0, 0)"
      ]
     },
     "execution_count": 37,
     "metadata": {},
     "output_type": "execute_result"
    }
   ],
   "source": [
    "parse('21 December 2016')"
   ]
  },
  {
   "cell_type": "code",
   "execution_count": 38,
   "metadata": {
    "collapsed": false
   },
   "outputs": [
    {
     "data": {
      "text/plain": [
       "datetime.datetime(2016, 12, 21, 0, 0)"
      ]
     },
     "execution_count": 38,
     "metadata": {},
     "output_type": "execute_result"
    }
   ],
   "source": [
    "parse('2016-12-21')"
   ]
  },
  {
   "cell_type": "code",
   "execution_count": 39,
   "metadata": {
    "collapsed": true
   },
   "outputs": [],
   "source": [
    "t1 = parse('21 December 2016')\n",
    "t2 = parse('2016-12-21')"
   ]
  },
  {
   "cell_type": "code",
   "execution_count": 40,
   "metadata": {
    "collapsed": false
   },
   "outputs": [
    {
     "data": {
      "text/plain": [
       "True"
      ]
     },
     "execution_count": 40,
     "metadata": {},
     "output_type": "execute_result"
    }
   ],
   "source": [
    "t1==t2"
   ]
  },
  {
   "cell_type": "code",
   "execution_count": 148,
   "metadata": {
    "collapsed": true
   },
   "outputs": [],
   "source": [
    "type_ref_dict = {\n",
    "    'Action':'动作',\n",
    "    'Adventure':'冒险',\n",
    "    'Animation':'动画',\n",
    "    'Biography':'传记',\n",
    "    'Comedy':'喜剧',\n",
    "    'Crime':'犯罪',\n",
    "    'Drama':'戏剧',\n",
    "    'Family':'家庭',\n",
    "    'Fantasy':'奇幻',\n",
    "    'History':'历史',\n",
    "    'Horror':'惊悚',\n",
    "    'Music':'音乐',\n",
    "    'Musical':'歌舞',\n",
    "    'Mystery':'悬疑',\n",
    "    'Romance':'爱情',\n",
    "    'Sci-Fi':None,\n",
    "    'Short':None,\n",
    "    'Sport':'运动',\n",
    "    'Thriller':'恐怖',\n",
    "    'War':'战争',\n",
    "}"
   ]
  },
  {
   "cell_type": "code",
   "execution_count": null,
   "metadata": {
    "collapsed": true
   },
   "outputs": [],
   "source": [
    "# Author: Olivier Grisel <olivier.grisel@ensta.org>\n",
    "#         Lars Buitinck\n",
    "#         Chyi-Kwei Yau <chyikwei.yau@gmail.com>\n",
    "# License: BSD 3 clause\n",
    "\n",
    "from __future__ import print_function\n",
    "from time import time\n",
    "\n",
    "from sklearn.feature_extraction.text import TfidfVectorizer, CountVectorizer\n",
    "from sklearn.decomposition import NMF, LatentDirichletAllocation\n",
    "from sklearn.datasets import fetch_20newsgroups\n",
    "\n",
    "n_samples = 200\n",
    "n_features = 100\n",
    "n_topics = 10\n",
    "n_top_words = 20\n",
    "\n",
    "\n",
    "def print_top_words(model, feature_names, n_top_words):\n",
    "    for topic_idx, topic in enumerate(model.components_):\n",
    "        print(\"Topic #%d:\" % topic_idx)\n",
    "        print(\" \".join([feature_names[i]\n",
    "                        for i in topic.argsort()[:-n_top_words - 1:-1]]))\n",
    "    print()\n",
    "\n",
    "\n",
    "# Load the 20 newsgroups dataset and vectorize it. We use a few heuristics\n",
    "# to filter out useless terms early on: the posts are stripped of headers,\n",
    "# footers and quoted replies, and common English words, words occurring in\n",
    "# only one document or in at least 95% of the documents are removed.\n",
    "\n",
    "print(\"Loading dataset...\")\n",
    "t0 = time()\n",
    "dataset = fetch_20newsgroups(shuffle=True, random_state=1,\n",
    "                             remove=('headers', 'footers', 'quotes'))\n",
    "data_samples = dataset.data[:n_samples]\n",
    "print(\"done in %0.3fs.\" % (time() - t0))\n",
    "\n",
    "# Use tf-idf features for NMF.\n",
    "print(\"Extracting tf-idf features for NMF...\")\n",
    "tfidf_vectorizer = TfidfVectorizer(max_df=0.95, min_df=2,\n",
    "                                   max_features=n_features,\n",
    "                                   stop_words='english')\n",
    "t0 = time()\n",
    "tfidf = tfidf_vectorizer.fit_transform(data_samples)\n",
    "print(\"done in %0.3fs.\" % (time() - t0))\n",
    "\n",
    "# Use tf (raw term count) features for LDA.\n",
    "print(\"Extracting tf features for LDA...\")\n",
    "tf_vectorizer = CountVectorizer(max_df=0.95, min_df=2,\n",
    "                                max_features=n_features,\n",
    "                                stop_words='english')\n",
    "t0 = time()\n",
    "tf = tf_vectorizer.fit_transform(data_samples)\n",
    "print(\"done in %0.3fs.\" % (time() - t0))\n",
    "\n",
    "# Fit the NMF model\n",
    "print(\"Fitting the NMF model with tf-idf features, \"\n",
    "      \"n_samples=%d and n_features=%d...\"\n",
    "      % (n_samples, n_features))\n",
    "t0 = time()\n",
    "nmf = NMF(n_components=n_topics, random_state=1,\n",
    "          alpha=.1, l1_ratio=.5).fit(tfidf)\n",
    "print(\"done in %0.3fs.\" % (time() - t0))\n",
    "\n",
    "print(\"\\nTopics in NMF model:\")\n",
    "tfidf_feature_names = tfidf_vectorizer.get_feature_names()\n",
    "print_top_words(nmf, tfidf_feature_names, n_top_words)\n",
    "\n",
    "print(\"Fitting LDA models with tf features, \"\n",
    "      \"n_samples=%d and n_features=%d...\"\n",
    "      % (n_samples, n_features))\n",
    "lda = LatentDirichletAllocation(n_topics=n_topics, max_iter=5,\n",
    "                                learning_method='online',\n",
    "                                learning_offset=50.,\n",
    "                                random_state=0)\n",
    "t0 = time()\n",
    "lda.fit(tf)\n",
    "print(\"done in %0.3fs.\" % (time() - t0))\n",
    "\n",
    "print(\"\\nTopics in LDA model:\")\n",
    "tf_feature_names = tf_vectorizer.get_feature_names()\n",
    "print_top_words(lda, tf_feature_names, n_top_words)"
   ]
  }
 ],
 "metadata": {
  "kernelspec": {
   "display_name": "Python 3",
   "language": "python",
   "name": "python3"
  },
  "language_info": {
   "codemirror_mode": {
    "name": "ipython",
    "version": 3
   },
   "file_extension": ".py",
   "mimetype": "text/x-python",
   "name": "python",
   "nbconvert_exporter": "python",
   "pygments_lexer": "ipython3",
   "version": "3.6.0"
  }
 },
 "nbformat": 4,
 "nbformat_minor": 2
}
